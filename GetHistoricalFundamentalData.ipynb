{
 "cells": [
  {
   "cell_type": "code",
   "execution_count": 1,
   "metadata": {},
   "outputs": [],
   "source": [
    "# Available features\n",
    "features = ['market_cap', 'pe_ratio', 'ps_ratio', 'price_to_book_value',\n",
    "            'ev_ebitda', 'ev_ebit', 'ev_revenues', 'ev_free_cash_flow',\n",
    "            'eps', 'ebitda', 'revenues_growth', 'profit_margin', 'cash_on_hand',\n",
    "            'price_to_cash_flow_ttm', 'peg_ratio', 'ev_assets']"
   ]
  },
  {
   "cell_type": "code",
   "execution_count": 2,
   "metadata": {},
   "outputs": [],
   "source": [
    "def GetHistoricalFundamentalData(stock, start, end, features):\n",
    "    import requests\n",
    "    import time\n",
    "    import re\n",
    "    import datetime\n",
    "    import pandas as pd\n",
    "    from collections import defaultdict\n",
    "    \n",
    "    dic = defaultdict()\n",
    "    for parameter in features[:]:\n",
    "        print(\"----------Working on %s----------\" %parameter)\n",
    "        Charts = 'https://ycharts.com/charts/fund_data.json?securities=include%3Atrue%2Cid%3A{stock}%2C%2C&calcs=include%3Atrue%2Cid%3A{parameter}%2C%2C&correlations=&format=real&recessions=false&zoom=custom&startDate={start}&endDate={end}&chartView=&splitType=single&scaleType=linear&note=&title=&source=false&units=false&quoteLegend=true&partner=&quotes=&legendOnChart=true&securitylistSecurityId=&clientGroupLogoUrl=&displayTicker=false&ychartsLogo=&useEstimates=false&maxPoints=918'.format(stock=stock,parameter=parameter,start=start,end=end)\n",
    "        headers = {\n",
    "                'user-agent': 'Mozilla/5.0 (Macintosh; Intel Mac OS X 10_14_1) AppleWebKit/537.36 (KHTML, like Gecko) Chrome/70.0.3538.102 Safari/537.36',\n",
    "                ######## You have to update cookies if it doesn't work #########\n",
    "                'cookie': 'hblid=w4r6qCrL7PNMMxQm1y8Lx0XoAB63J0PA; hubspotutk=461fce12833a01321272e68bb33abdc8; _cb_ls=1; _cb=DM_jLbDae7DuDBPUdz; olfsk=olfsk6171775466330669; 33e807c05af9078f6b2ed01ced5fc28d5c8f52f4=1; __utma=69688216.236940170.1551736858.1551779122.1551808677.6; __utmc=69688216; __utmz=69688216.1551808677.6.3.utmcsr=google|utmccn=(organic)|utmcmd=organic|utmctr=(not%20provided); wcsid=vnmOzIbhUrriMHxF1y8Lx0XA63rAaEzo; _okdetect=%7B%22token%22%3A%2215518086775140%22%2C%22proto%22%3A%22https%3A%22%2C%22host%22%3A%22ycharts.com%22%7D; __hstc=165832289.461fce12833a01321272e68bb33abdc8.1551736858200.1551779122558.1551808677535.6; __hssrc=1; _cb_svref=https%3A%2F%2Fwww.google.com%2F; _ok=1228-592-10-8601; _okbk=cd5%3Davailable%2Ccd4%3Dtrue%2Cvi5%3D0%2Cvi4%3D1551808677753%2Cvi3%3Dactive%2Cvi2%3Dfalse%2Cvi1%3Dfalse%2Ccd8%3Dchat%2Ccd6%3D0%2Ccd3%3Dfalse%2Ccd2%3D0%2Ccd1%3D0%2C; page_view_ctr=21; _oklv=1551808686892%2CvnmOzIbhUrriMHxF1y8Lx0XA63rAaEzo; ycsessionid=idkbxh1odgzmi9hqi9i9fjuifoiztlyx; csrftoken=N8XozuwOSfsgYoifRug23LpFDC0npHPw; __utmt=1; __utmb=69688216.10.10.1551808677; mp_bd6455515e9730c7dc2f008755a4ddfe_mixpanel=%7B%22distinct_id%22%3A%20%221694ab962af17-0b23b69d91b4ea-36647105-1aeaa0-1694ab962b14e9%22%2C%22%24device_id%22%3A%20%221694ab962af17-0b23b69d91b4ea-36647105-1aeaa0-1694ab962b14e9%22%2C%22%24search_engine%22%3A%20%22google%22%2C%22%24initial_referrer%22%3A%20%22https%3A%2F%2Fwww.google.com%2F%22%2C%22%24initial_referring_domain%22%3A%20%22www.google.com%22%2C%22__mps%22%3A%20%7B%7D%2C%22__mpso%22%3A%20%7B%7D%2C%22__mpus%22%3A%20%7B%7D%2C%22__mpa%22%3A%20%7B%7D%2C%22__mpu%22%3A%20%7B%7D%2C%22__mpr%22%3A%20%5B%5D%2C%22__mpap%22%3A%20%5B%5D%2C%22%24user_id%22%3A%20%221694ab962af17-0b23b69d91b4ea-36647105-1aeaa0-1694ab962b14e9%22%7D; __hssc=165832289.9.1551808677535; _chartbeat2=.1551736858253.1551810188863.11.C4QjlmJB5_0CJswR3Cyf2GcBaTbEs.9; _chartbeat5=',\n",
    "                'Host': 'ycharts.com',\n",
    "                'startDate': start,     \n",
    "                'endDate': end,\n",
    "                'zoom': 'custom',\n",
    "                'Pragma': 'no-cache',\n",
    "                'referer': 'https://ycharts.com/companies/{stock}/pe_ratio'.format(stock=stock),\n",
    "                'X-Requested-With': 'XMLHttpRequest'\n",
    "            }\n",
    "\n",
    "        data = {'securities': 'include:true,id:{stock},,'.format(stock=stock), \n",
    "                'calcs': 'include:true,id:{parameter},,'.format(parameter=parameter),\n",
    "                'maxPoints': '10000'}\n",
    "\n",
    "        response = requests.get(Charts, headers=headers, data=data)\n",
    "\n",
    "        text = response.text\n",
    "\n",
    "        ret = re.match('.+(\\[\\[.+?\\]\\])', text)\n",
    "        ret_ = ret.group(1).split('], ')\n",
    "        result = [ret_[0][2:]] + [x[1:] for x in ret_[1:-1]] + [ret_[-1][1:-2]]\n",
    "        date = [datetime.datetime.strptime(time.strftime(\"%d %m %Y\", time.gmtime(int(x) / 1000.0)), '%d %m %Y') for x in [x.split(', ')[0] for x in result]]\n",
    "        data = [x.split(', ')[1] for x in result]\n",
    "        \n",
    "        print('-----Number of Data:', len(date))\n",
    "        \n",
    "        for x in date:\n",
    "            if x not in dic.keys():\n",
    "                dic[x] = defaultdict()\n",
    "        \n",
    "        for x,y in zip(date,data):\n",
    "            dic[x][parameter] = y\n",
    "            \n",
    "        time.sleep(1)\n",
    "        \n",
    "    df = pd.DataFrame.from_dict(dic, orient='index')\n",
    "    \n",
    "    return df\n"
   ]
  },
  {
   "cell_type": "code",
   "execution_count": 3,
   "metadata": {},
   "outputs": [
    {
     "name": "stdout",
     "output_type": "stream",
     "text": [
      "----------Working on market_cap----------\n",
      "-----Number of Data: 262\n",
      "----------Working on pe_ratio----------\n",
      "-----Number of Data: 262\n",
      "----------Working on ps_ratio----------\n",
      "-----Number of Data: 262\n",
      "----------Working on price_to_book_value----------\n",
      "-----Number of Data: 262\n",
      "----------Working on ev_ebitda----------\n",
      "-----Number of Data: 262\n",
      "----------Working on ev_ebit----------\n",
      "-----Number of Data: 262\n",
      "----------Working on ev_revenues----------\n",
      "-----Number of Data: 262\n",
      "----------Working on ev_free_cash_flow----------\n",
      "-----Number of Data: 262\n"
     ]
    }
   ],
   "source": [
    "stock = 'NFLX'\n",
    "start = '03/03/2010'\n",
    "end   = '03/03/2015'\n",
    "features = ['market_cap', 'pe_ratio', 'ps_ratio', 'price_to_book_value',\n",
    "            'ev_ebitda', 'ev_ebit', 'ev_revenues', 'ev_free_cash_flow']\n",
    "df = GetHistoricalFundamentalData(stock, start, end,features)"
   ]
  },
  {
   "cell_type": "code",
   "execution_count": 4,
   "metadata": {},
   "outputs": [
    {
     "data": {
      "text/html": [
       "<div>\n",
       "<style scoped>\n",
       "    .dataframe tbody tr th:only-of-type {\n",
       "        vertical-align: middle;\n",
       "    }\n",
       "\n",
       "    .dataframe tbody tr th {\n",
       "        vertical-align: top;\n",
       "    }\n",
       "\n",
       "    .dataframe thead th {\n",
       "        text-align: right;\n",
       "    }\n",
       "</style>\n",
       "<table border=\"1\" class=\"dataframe\">\n",
       "  <thead>\n",
       "    <tr style=\"text-align: right;\">\n",
       "      <th></th>\n",
       "      <th>market_cap</th>\n",
       "      <th>pe_ratio</th>\n",
       "      <th>ps_ratio</th>\n",
       "      <th>price_to_book_value</th>\n",
       "      <th>ev_ebitda</th>\n",
       "      <th>ev_ebit</th>\n",
       "      <th>ev_revenues</th>\n",
       "      <th>ev_free_cash_flow</th>\n",
       "    </tr>\n",
       "  </thead>\n",
       "  <tbody>\n",
       "    <tr>\n",
       "      <th>2010-03-03</th>\n",
       "      <td>3616.1725</td>\n",
       "      <td>34.1162</td>\n",
       "      <td>2.3628</td>\n",
       "      <td>18.1587</td>\n",
       "      <td>9.0638</td>\n",
       "      <td>17.5969</td>\n",
       "      <td>2.0930</td>\n",
       "      <td>12.5333</td>\n",
       "    </tr>\n",
       "    <tr>\n",
       "      <th>2010-03-10</th>\n",
       "      <td>3815.8515</td>\n",
       "      <td>36.0000</td>\n",
       "      <td>2.4932</td>\n",
       "      <td>19.1614</td>\n",
       "      <td>9.5815</td>\n",
       "      <td>18.6020</td>\n",
       "      <td>2.2126</td>\n",
       "      <td>13.2492</td>\n",
       "    </tr>\n",
       "    <tr>\n",
       "      <th>2010-03-17</th>\n",
       "      <td>3796.5798</td>\n",
       "      <td>35.8182</td>\n",
       "      <td>2.4806</td>\n",
       "      <td>19.0646</td>\n",
       "      <td>9.5316</td>\n",
       "      <td>18.5050</td>\n",
       "      <td>2.2010</td>\n",
       "      <td>13.1801</td>\n",
       "    </tr>\n",
       "    <tr>\n",
       "      <th>2010-03-24</th>\n",
       "      <td>3775.2894</td>\n",
       "      <td>36.5505</td>\n",
       "      <td>2.5314</td>\n",
       "      <td>18.9577</td>\n",
       "      <td>9.4764</td>\n",
       "      <td>18.3979</td>\n",
       "      <td>2.1883</td>\n",
       "      <td>13.1038</td>\n",
       "    </tr>\n",
       "    <tr>\n",
       "      <th>2010-03-31</th>\n",
       "      <td>3853.7894</td>\n",
       "      <td>33.5182</td>\n",
       "      <td>2.3724</td>\n",
       "      <td>26.2636</td>\n",
       "      <td>8.9833</td>\n",
       "      <td>17.2233</td>\n",
       "      <td>2.1400</td>\n",
       "      <td>13.0206</td>\n",
       "    </tr>\n",
       "  </tbody>\n",
       "</table>\n",
       "</div>"
      ],
      "text/plain": [
       "           market_cap pe_ratio ps_ratio price_to_book_value ev_ebitda  \\\n",
       "2010-03-03  3616.1725  34.1162   2.3628             18.1587    9.0638   \n",
       "2010-03-10  3815.8515  36.0000   2.4932             19.1614    9.5815   \n",
       "2010-03-17  3796.5798  35.8182   2.4806             19.0646    9.5316   \n",
       "2010-03-24  3775.2894  36.5505   2.5314             18.9577    9.4764   \n",
       "2010-03-31  3853.7894  33.5182   2.3724             26.2636    8.9833   \n",
       "\n",
       "            ev_ebit ev_revenues ev_free_cash_flow  \n",
       "2010-03-03  17.5969      2.0930           12.5333  \n",
       "2010-03-10  18.6020      2.2126           13.2492  \n",
       "2010-03-17  18.5050      2.2010           13.1801  \n",
       "2010-03-24  18.3979      2.1883           13.1038  \n",
       "2010-03-31  17.2233      2.1400           13.0206  "
      ]
     },
     "execution_count": 4,
     "metadata": {},
     "output_type": "execute_result"
    }
   ],
   "source": [
    "df.head()"
   ]
  },
  {
   "cell_type": "code",
   "execution_count": null,
   "metadata": {},
   "outputs": [
    {
     "name": "stdout",
     "output_type": "stream",
     "text": [
      "----------Working on eps----------\n"
     ]
    }
   ],
   "source": [
    "stock = 'NFLX'\n",
    "start = '03/03/2010'\n",
    "end   = '03/03/2015'\n",
    "features = ['eps', 'ebitda', 'revenues_growth', 'profit_margin','ev_assets']\n",
    "df = GetHistoricalFundamentalData(stock, start, end,features)"
   ]
  },
  {
   "cell_type": "code",
   "execution_count": null,
   "metadata": {},
   "outputs": [],
   "source": [
    "df.head()"
   ]
  }
 ],
 "metadata": {
  "kernelspec": {
   "display_name": "Python 3",
   "language": "python",
   "name": "python3"
  },
  "language_info": {
   "codemirror_mode": {
    "name": "ipython",
    "version": 3
   },
   "file_extension": ".py",
   "mimetype": "text/x-python",
   "name": "python",
   "nbconvert_exporter": "python",
   "pygments_lexer": "ipython3",
   "version": "3.7.0"
  }
 },
 "nbformat": 4,
 "nbformat_minor": 2
}
